{
 "cells": [
  {
   "cell_type": "code",
   "execution_count": 1,
   "metadata": {},
   "outputs": [],
   "source": [
    "graph = {'Rektor': ['Warek 1', 'Warek 2'],\n",
    "         'Warek 1': [],\n",
    "         'Warek 2': ['Kaprodi 1', 'Kaprodi 2', 'Kaprodi 3'],\n",
    "         'Kaprodi 1': ['Dosen A', 'Dosen B', 'Dosen C'],\n",
    "         'Kaprodi 2': ['Dosen D', 'Dosen E'],\n",
    "         'Kaprodi 3': ['Dosen F', 'Dosen G']\n",
    "        }\n",
    "\n",
    "def bfs(graph, start):\n",
    "    visited = []\n",
    "    queue = []\n",
    "    queue [start]\n",
    "    while queue:\n",
    "        node = queue.pop(0)\n",
    "        if node not in visited:\n",
    "            visited.append(node)\n",
    "            neighbours = graph[node]\n",
    "            for neighbour in neighbours:\n",
    "                queue.append(neighbour)\n",
    "    return visited"
   ]
  },
  {
   "cell_type": "code",
   "execution_count": 1,
   "metadata": {},
   "outputs": [],
   "source": [
    "def dfs(visited, graph, node):\n",
    "    if node not in visited:\n",
    "        print(node)\n",
    "        visited.add(node)\n",
    "        for neighbour in graph[node]:\n",
    "            dfs(visited, graph, neighbour)\n",
    "            "
   ]
  }
 ],
 "metadata": {
  "kernelspec": {
   "display_name": "Python 3",
   "language": "python",
   "name": "python3"
  },
  "language_info": {
   "codemirror_mode": {
    "name": "ipython",
    "version": 3
   },
   "file_extension": ".py",
   "mimetype": "text/x-python",
   "name": "python",
   "nbconvert_exporter": "python",
   "pygments_lexer": "ipython3",
   "version": "3.12.3"
  }
 },
 "nbformat": 4,
 "nbformat_minor": 2
}
