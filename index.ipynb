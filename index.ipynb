{
 "cells": [
  {
   "cell_type": "code",
   "execution_count": 21,
   "metadata": {},
   "outputs": [
    {
     "name": "stdout",
     "output_type": "stream",
     "text": [
      "['Rektor', 'Warek 1', 'Warek 2', 'Kaprodi 1', 'Kaprodi 2', 'Kaprodi 3', 'Dosen A', 'Dosen B', 'Dosen C', 'Dosen D', 'Dosen E', 'Dosen F', 'Dosen G']\n"
     ]
    }
   ],
   "source": [
    "graph = {\n",
    "    'Rektor': ['Warek 1', 'Warek 2'],\n",
    "    'Warek 1': ['Kaprodi 1', 'Kaprodi 2'],\n",
    "    'Warek 2': ['Kaprodi 3'],\n",
    "    'Kaprodi 1': ['Dosen A', 'Dosen B', 'Dosen C'],\n",
    "    'Kaprodi 2': ['Dosen D', 'Dosen E'],\n",
    "    'Kaprodi 3': ['Dosen F', 'Dosen G'],\n",
    "    'Dosen A': [],\n",
    "    'Dosen B': [],\n",
    "    'Dosen C': [],\n",
    "    'Dosen D': [],\n",
    "    'Dosen E': [],\n",
    "    'Dosen F': [],\n",
    "    'Dosen G': []\n",
    "}\n",
    "\n",
    "\n",
    "def bfs(graph, start):\n",
    "    visited = []\n",
    "    queue = []\n",
    "    queue = [start]\n",
    "    while queue:\n",
    "        node = queue.pop(0)\n",
    "        if node not in visited:\n",
    "            visited.append(node)\n",
    "            neighbours = graph[node]\n",
    "            for neighbour in neighbours:\n",
    "                queue.append(neighbour)\n",
    "    return visited\n",
    "\n",
    "\n",
    "output = bfs(graph, 'Rektor')\n",
    "print(output)\n"
   ]
  },
  {
   "cell_type": "code",
   "execution_count": 1,
   "metadata": {},
   "outputs": [],
   "source": [
    "def dfs(visited, graph, node):\n",
    "    if node not in visited:\n",
    "        print(node)\n",
    "        visited.add(node)\n",
    "        for neighbour in graph[node]:\n",
    "            dfs(visited, graph, neighbour)\n",
    "            "
   ]
  },
  {
   "cell_type": "code",
   "execution_count": 24,
   "metadata": {},
   "outputs": [
    {
     "name": "stdout",
     "output_type": "stream",
     "text": [
      "Rektor\n",
      "Warek 1\n",
      "Kaprodi 1\n",
      "Dosen A\n",
      "Dosen B\n",
      "Dosen C\n",
      "Kaprodi 2\n",
      "Dosen D\n",
      "Dosen E\n",
      "Warek 2\n",
      "Kaprodi 3\n",
      "Dosen F\n",
      "Dosen G\n",
      "None\n"
     ]
    }
   ],
   "source": [
    "output = dfs(set(), graph, 'Rektor')\n",
    "print(output)"
   ]
  },
  {
   "cell_type": "markdown",
   "metadata": {},
   "source": [
    "Cara kerja algoritma DFS adalah dengan mencari satu persatu hingga sampai di node akhir. Kurang lebih, cara kerjanya sama seperti Djikstra. Algoritma BFS memiliki cara kerja dengan cara mendeteksi node satu persatu yang dekat. Node yang terdeteksi akan terus mencari hingga nantinya sampai di node paling akhir, hingga membentuk sebuah satu kesatuan graph yang utuh. "
   ]
  }
 ],
 "metadata": {
  "kernelspec": {
   "display_name": "Python 3",
   "language": "python",
   "name": "python3"
  },
  "language_info": {
   "codemirror_mode": {
    "name": "ipython",
    "version": 3
   },
   "file_extension": ".py",
   "mimetype": "text/x-python",
   "name": "python",
   "nbconvert_exporter": "python",
   "pygments_lexer": "ipython3",
   "version": "3.12.3"
  }
 },
 "nbformat": 4,
 "nbformat_minor": 2
}
